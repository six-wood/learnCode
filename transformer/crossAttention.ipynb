{
 "cells": [
  {
   "cell_type": "markdown",
   "metadata": {},
   "source": [
    "# Cross Attention"
   ]
  },
  {
   "cell_type": "markdown",
   "metadata": {},
   "source": [
    "##### cross Attention  \n",
    "与selfAttention非常类似，但指的是一个序列和另一个序列的相关性\n",
    "> 一个序列提供Q，另外一个序列提供K、V，存在个别一个序列提供K，另一个序列提供Q、V的情况\n",
    "> transformer中Decode的第二个MultiHeadAttention就用的cross Attention"
   ]
  },
  {
   "cell_type": "code",
   "execution_count": 3,
   "metadata": {},
   "outputs": [],
   "source": [
    "import math\n",
    "import torch\n",
    "import torch.nn as nn\n",
    "\n",
    "# MultiHeadAttention是一个特征提取器\n",
    "# 输入query, key, value三个向量，输出部分是融合了上下文语义信息的单词表示，输出维度和query相同\n",
    "# 可以兼容transformer中的三类Attention：encoder self-attention，无mask，输入query = key = value\n",
    "# decoder self-attention，有sequence mask，保证当前单词只能看到之前的单词，看不到之后的单词。输入query = key = value\n",
    "# encoder-decoder attention，实现encoder和decoder的交互，query是decoder层的输入，key = value 为encoder的输出。\n",
    "\n",
    "\n",
    "class MultiHeadAttention(nn.Module):\n",
    "    def __init__(self, heads, hidden_size):\n",
    "        super(MultiHeadAttention, self).__init__()\n",
    "        assert hidden_size % heads == 0\n",
    "        self.hidden_size = hidden_size\n",
    "        self.heads = heads\n",
    "        self.wq = nn.Linear(hidden_size, hidden_size)\n",
    "        self.wk = nn.Linear(hidden_size, hidden_size)\n",
    "        self.wv = nn.Linear(hidden_size, hidden_size)\n",
    "\n",
    "    def forward(self, query, key, value, mask=None):\n",
    "        # query, key, value = [batch_size, seq_len, hidden_size]\n",
    "        batch_size, seq2_len, hidden_size = query.shape\n",
    "        seq1_len = key.shape[1]\n",
    "        q = self.wq(query).view(\n",
    "            batch_size, seq2_len, self.heads, -1\n",
    "        )  # [batch_size, seq2_len, heads, d_k]\n",
    "        k = self.wk(key).view(\n",
    "            batch_size, seq1_len, self.heads, -1\n",
    "        )  # [batch_size, seq1_len, heads, d_k]\n",
    "        v = self.wv(value).view(\n",
    "            batch_size, seq1_len, self.heads, -1\n",
    "        )  # [batch_size, seq1_len, heads, d_k]\n",
    "        q = q.permute(0, 2, 1, 3)  # [batch_size, heads, seq2_len, d_k]\n",
    "        k = k.permute(0, 2, 1, 3)  # [batch_size, heads, seq1_len, d_k]\n",
    "        v = v.permute(0, 2, 1, 3)  # [batch_size, heads, seq1_len, d_k]\n",
    "        d_k = self.hidden_size // self.heads\n",
    "        attention = torch.matmul(q, k.transpose(2, 3)) / math.sqrt(\n",
    "            d_k\n",
    "        )  # [batch_size, heads, seq2_len, seq1_len]\n",
    "\n",
    "        if mask is not None:\n",
    "            if len(mask.shape) != len(attention.shape):\n",
    "                mask.unsqueeze_(1)  # [batch_size, 1, seq2_len, seq1_len]\n",
    "            attention.masked_fill_(mask, float(\"-inf\"))\n",
    "        score = nn.functional.softmax(attention, dim=-1)\n",
    "        output = torch.matmul(score, v)  # [batch_size, heads, seq2_len, d_k]\n",
    "        output = output.permute(0, 2, 1, 3).reshape(\n",
    "            batch_size, seq2_len, -1\n",
    "        )  # [batch_size, seq2_len, heads, d_k] -> [batch_size, seq2_len, hidden_size]\n",
    "        return output\n",
    "\n",
    "\n",
    "class FeedForward(nn.Module):\n",
    "    def __init__(self, model_size, dropout=0.1):\n",
    "        super(FeedForward, self).__init__()\n",
    "        self.linear1 = nn.Linear(model_size, 4 * model_size)\n",
    "        self.linear2 = nn.Linear(4 * model_size, model_size)\n",
    "        self.relu = nn.ReLU()\n",
    "        self.dropout = nn.Dropout(dropout)\n",
    "\n",
    "    def forward(self, x):\n",
    "        x = self.relu(self.linear1(x))\n",
    "        return self.linear2(self.dropout(x))"
   ]
  },
  {
   "cell_type": "markdown",
   "metadata": {},
   "source": [
    "测试代码"
   ]
  },
  {
   "cell_type": "code",
   "execution_count": 9,
   "metadata": {},
   "outputs": [],
   "source": [
    "def testCrossAttention():\n",
    "    x = torch.randn(2, 3, 100)\n",
    "    y = torch.randn(2, 5, 100)\n",
    "    crossAtten = MultiHeadAttention(1, 100)\n",
    "    out = crossAtten(x, y, y)\n",
    "    print(out.shape)"
   ]
  },
  {
   "cell_type": "markdown",
   "metadata": {},
   "source": [
    "运行代码"
   ]
  },
  {
   "cell_type": "code",
   "execution_count": 10,
   "metadata": {},
   "outputs": [
    {
     "name": "stdout",
     "output_type": "stream",
     "text": [
      "torch.Size([2, 3, 100])\n"
     ]
    }
   ],
   "source": [
    "if __name__ == \"__main__\":\n",
    "    testCrossAttention()"
   ]
  }
 ],
 "metadata": {
  "kernelspec": {
   "display_name": "DL",
   "language": "python",
   "name": "python3"
  },
  "language_info": {
   "codemirror_mode": {
    "name": "ipython",
    "version": 3
   },
   "file_extension": ".py",
   "mimetype": "text/x-python",
   "name": "python",
   "nbconvert_exporter": "python",
   "pygments_lexer": "ipython3",
   "version": "3.10.9"
  }
 },
 "nbformat": 4,
 "nbformat_minor": 2
}
