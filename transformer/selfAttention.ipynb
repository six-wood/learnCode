{
 "cells": [
  {
   "cell_type": "markdown",
   "metadata": {},
   "source": [
    "##### self Attention原理"
   ]
  },
  {
   "cell_type": "markdown",
   "metadata": {},
   "source": [
    "<div align=center><img decoding=\"async\" src=\"img/self attention.png\" width=\"30%\">"
   ]
  },
  {
   "cell_type": "markdown",
   "metadata": {},
   "source": [
    "$$ Atten = SoftMax({x}\\cdot {x^T})x $$\n",
    "$$ Atten = SoftMax({Q}\\cdot {K^T})V $$\n",
    "Q、K、V都是x线性变换得到的,用于增强泛化能力  \n",
    "> 1. 增加了参数量，增加模型的表达能力。  \n",
    "> 2. 加入了不同的线性变换相当于对做了不同的投影,将向量投影到不同空间,增加模型的泛化能力,不要那么hard。允许某个token对其他位置token的注意力大于对自己的注意力,才能更好的捕捉全局位置的注意力。\n",
    "\n",
    "sqrt(d)是为了防止梯度爆炸\n",
    "> 1. 归一化方差,平滑分布\n",
    "> 2. 大量实验已经验证如果不scale,模型预训练很难收敛"
   ]
  },
  {
   "cell_type": "code",
   "execution_count": 9,
   "metadata": {},
   "outputs": [],
   "source": [
    "import math\n",
    "import torch\n",
    "import torch.nn"
   ]
  },
  {
   "cell_type": "code",
   "execution_count": 10,
   "metadata": {},
   "outputs": [],
   "source": [
    "class SelfAttention(torch.nn.Module):\n",
    "    # input : batch_size * seq_len * input_dim\n",
    "    # q: query\n",
    "    # k: key\n",
    "    # v: value\n",
    "    def __init__(self, input_dim, dim_k, dim_v) -> None:\n",
    "        super(SelfAttention, self).__init__()\n",
    "        self.q = torch.nn.Linear(input_dim, dim_k)\n",
    "        self.k = torch.nn.Linear(input_dim, dim_k)\n",
    "        self.v = torch.nn.Linear(input_dim, dim_v)\n",
    "        self.__normal_factor = 1 / math.sqrt(dim_k)\n",
    "\n",
    "    def forward(self, x):\n",
    "        Q = self.q(x)\n",
    "        K = self.k(x)\n",
    "        V = self.v(x)\n",
    "\n",
    "        Atten = torch.nn.Softmax(dim=-1)(\n",
    "            torch.bmm(Q, K.transpose(1, 2)) * self.__normal_factor\n",
    "        )  # Q * K.T() # batch_size * seq_len * seq_len\n",
    "        out = torch.bmm(Atten, V)\n",
    "        return out"
   ]
  },
  {
   "cell_type": "markdown",
   "metadata": {},
   "source": [
    "创建测试代码"
   ]
  },
  {
   "cell_type": "code",
   "execution_count": 11,
   "metadata": {},
   "outputs": [],
   "source": [
    "def testAtten():\n",
    "    x = torch.randn(10, 20, 30)\n",
    "    selfAttention = SelfAttention(30, 40, 50)\n",
    "    out = selfAttention(x)\n",
    "    print(out.shape)"
   ]
  },
  {
   "cell_type": "markdown",
   "metadata": {},
   "source": [
    "##### Multi head self Attention解释"
   ]
  },
  {
   "cell_type": "markdown",
   "metadata": {},
   "source": [
    "<div align=center><img decoding=\"async\" src=\"img/multiHeadAttention.png\" width=\"30%\">"
   ]
  },
  {
   "cell_type": "markdown",
   "metadata": {},
   "source": [
    "在《Attention Is All You Need》这篇原论文原文中解释了多头的作用:  \n",
    "> 将隐状态向量分成多个头，形成多个子语义空间，可以让模型去关注不同维度语义空间的信息(或者说让模型去关注不同方面的信息)\n",
    "\n",
    "multi-head-attention中大部分头没有捕捉到语法/句法信息,多头的核心思想就是ensemble,如随机森林一样,将特征切分,\n",
    "每个head就像是一个弱分类器,让最后得到的embedding关注多方面信息,不要过拟合到某一种pattern上,这一点上面的实验图像可以很清晰的看出来。\n",
    "> 通过观察大量样本的attention矩阵我们发现,其实几乎每一个token在全句中的注意力都是稀疏的,即每个token只关注非常有限个其他token,\n",
    "其余注意力基本可以看成是0(softmax无法严格为0),大量稀疏就意味着我们可以对其进行低秩分解\n",
    "\n",
    "self Attention都是全局Attention,即每个token都关注其他所有token,但得到的attention矩阵是稀疏的,即每个token只关注非常有限个其他token,  \n",
    "可以分为多个头,即multi-head-attention  \n",
    "> 1. 通过多头attention可以让模型去关注不同维度语义空间的信息(或者说让模型去关注不同方面的信息)\n",
    "比如随机森林一样,有的Attention矩阵基本只关注语法/句法信息,有的Attention矩阵基本只关注语义信息  \n",
    "> 2. 既然是稀疏的,那么就可以对其进行低秩分解,减少参数量\n",
    "可以看成是对特征进行切分,每个head就像是一个弱分类器,让最后得到的embedding关注多方面信息,不要过拟合到某一种pattern上"
   ]
  },
  {
   "cell_type": "code",
   "execution_count": 12,
   "metadata": {},
   "outputs": [],
   "source": [
    "class selfAttentionMultiHead(torch.nn.Module):\n",
    "    # input : batch_size * seq_len * input_dim\n",
    "    # q: query\n",
    "    # k: key\n",
    "    # v: value\n",
    "\n",
    "    def __init__(self, input_dim, dim_k, dim_v, num_dead) -> None:\n",
    "        super(selfAttentionMultiHead, self).__init__()\n",
    "        self.q = torch.nn.Linear(input_dim, dim_k)\n",
    "        self.k = torch.nn.Linear(input_dim, dim_k)\n",
    "        self.v = torch.nn.Linear(input_dim, dim_v)\n",
    "\n",
    "        self.num_head = num_dead\n",
    "        self.dim_k = dim_k\n",
    "        self.dim_v = dim_v\n",
    "        self.__normal_factor = 1 / math.sqrt(dim_k)\n",
    "\n",
    "    def forward(self, x):\n",
    "        Q = self.q(x)\n",
    "        K = self.k(x)\n",
    "        V = self.v(x)\n",
    "\n",
    "        Q_ = Q.view(-1, Q.shape[1], self.num_head, self.dim_k // self.num_head)\n",
    "        K_ = K.view(-1, K.shape[1], self.num_head, self.dim_k // self.num_head)\n",
    "        V_ = V.view(\n",
    "            -1, V.shape[1], self.num_head, self.dim_v // self.num_head\n",
    "        )  # batch_size * seq_len * num_head * dim_k\n",
    "        # 拆分成多个头\n",
    "\n",
    "        atten = torch.nn.Softmax(dim=-1)(\n",
    "            torch.matmul(Q_, K_.permute(0, 1, 3, 2))\n",
    "        )  # Q * K.T() # batch_size * seq_len * seq_len\n",
    "\n",
    "        output = torch.matmul(atten, V_).reshape(\n",
    "            x.shape[0], x.shape[1], -1\n",
    "        )  # Q * K.T() * V # batch_size * seq_len * dim_v\n",
    "\n",
    "        return output"
   ]
  },
  {
   "cell_type": "markdown",
   "metadata": {},
   "source": [
    "测试代码"
   ]
  },
  {
   "cell_type": "code",
   "execution_count": 13,
   "metadata": {},
   "outputs": [],
   "source": [
    "def testMultiHeadAtten():\n",
    "    x = torch.randn(10, 20, 30)\n",
    "    selfAttention = selfAttentionMultiHead(30, 40, 50, 10)\n",
    "    out = selfAttention(x)\n",
    "    print(out.shape)"
   ]
  },
  {
   "cell_type": "markdown",
   "metadata": {},
   "source": [
    "运行代码"
   ]
  },
  {
   "cell_type": "code",
   "execution_count": 14,
   "metadata": {},
   "outputs": [
    {
     "name": "stdout",
     "output_type": "stream",
     "text": [
      "torch.Size([10, 20, 50])\n",
      "torch.Size([10, 20, 50])\n"
     ]
    }
   ],
   "source": [
    "if __name__ == \"__main__\":\n",
    "    testAtten()\n",
    "    testMultiHeadAtten()"
   ]
  }
 ],
 "metadata": {
  "kernelspec": {
   "display_name": "DL",
   "language": "python",
   "name": "python3"
  },
  "language_info": {
   "codemirror_mode": {
    "name": "ipython",
    "version": 3
   },
   "file_extension": ".py",
   "mimetype": "text/x-python",
   "name": "python",
   "nbconvert_exporter": "python",
   "pygments_lexer": "ipython3",
   "version": "3.10.9"
  },
  "orig_nbformat": 4
 },
 "nbformat": 4,
 "nbformat_minor": 2
}
