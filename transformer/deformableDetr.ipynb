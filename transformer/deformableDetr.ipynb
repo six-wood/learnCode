{
 "cells": [
  {
   "cell_type": "markdown",
   "metadata": {},
   "source": [
    "# demo for Deformable self Attention"
   ]
  },
  {
   "cell_type": "markdown",
   "metadata": {},
   "source": [
    "[搞懂 Vision Transformer 原理和代码，看这篇技术综述就够了](https://mp.weixin.qq.com/s?__biz=MzI5MDUyMDIxNA==&amp;mid=2247535922&amp;idx=1&amp;sn=f4ea9fcee78ac604c03924e367844e85&amp;chksm=ec1ca0cbdb6b29dd154fc54e28689dd9b074183920e9d7e0b675d9f9eb7946b8e45b94ab28d3&amp;scene=21#wechat_redirect)  "
   ]
  },
  {
   "cell_type": "code",
   "execution_count": null,
   "metadata": {},
   "outputs": [],
   "source": [
    "import torch\n",
    "import torch.nn.functional as F\n",
    "from torch import nn, einsum\n",
    "\n",
    "from einops.layers.torch import Rearrange\n",
    "from einops import rearrange, repeat"
   ]
  }
 ],
 "metadata": {
  "language_info": {
   "name": "python"
  }
 },
 "nbformat": 4,
 "nbformat_minor": 2
}
