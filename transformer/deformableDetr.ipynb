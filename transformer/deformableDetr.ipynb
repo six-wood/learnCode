{
 "cells": [
  {
   "cell_type": "markdown",
   "metadata": {},
   "source": [
    "# demo for Deformable self Attention"
   ]
  },
  {
   "cell_type": "markdown",
   "metadata": {},
   "source": [
    "[搞懂 Vision Transformer 原理和代码，看这篇技术综述就够了](https://mp.weixin.qq.com/s?__biz=MzI5MDUyMDIxNA==&amp;mid=2247535922&amp;idx=1&amp;sn=f4ea9fcee78ac604c03924e367844e85&amp;chksm=ec1ca0cbdb6b29dd154fc54e28689dd9b074183920e9d7e0b675d9f9eb7946b8e45b94ab28d3&amp;scene=21#wechat_redirect)  "
   ]
  },
  {
   "cell_type": "markdown",
   "metadata": {},
   "source": [
    "搭载模型"
   ]
  },
  {
   "cell_type": "code",
   "execution_count": 2,
   "metadata": {},
   "outputs": [],
   "source": [
    "import torch\n",
    "from deformable_attention import DeformableAttention1D"
   ]
  },
  {
   "cell_type": "markdown",
   "metadata": {},
   "source": [
    "定义模型"
   ]
  },
  {
   "cell_type": "code",
   "execution_count": 7,
   "metadata": {},
   "outputs": [],
   "source": [
    "attn = DeformableAttention1D(\n",
    "    dim = 128,\n",
    "    downsample_factor = 4,\n",
    "    offset_scale = 2,\n",
    "    offset_kernel_size = 6\n",
    ")"
   ]
  },
  {
   "cell_type": "markdown",
   "metadata": {},
   "source": [
    "测试模型"
   ]
  },
  {
   "cell_type": "code",
   "execution_count": 4,
   "metadata": {},
   "outputs": [
    {
     "data": {
      "text/plain": [
       "tensor([[[-0.0082, -0.0082, -0.0075,  ..., -0.0077, -0.0077, -0.0077],\n",
       "         [-0.0043, -0.0022, -0.0026,  ..., -0.0008, -0.0020, -0.0013],\n",
       "         [ 0.1482,  0.1488,  0.1485,  ...,  0.1495,  0.1492,  0.1495],\n",
       "         ...,\n",
       "         [ 0.1813,  0.1815,  0.1798,  ...,  0.1824,  0.1820,  0.1817],\n",
       "         [-0.1245, -0.1256, -0.1266,  ..., -0.1263, -0.1262, -0.1267],\n",
       "         [-0.1328, -0.1339, -0.1331,  ..., -0.1345, -0.1335, -0.1338]]],\n",
       "       grad_fn=<ConvolutionBackward0>)"
      ]
     },
     "execution_count": 4,
     "metadata": {},
     "output_type": "execute_result"
    }
   ],
   "source": [
    "x = torch.randn(1, 128, 512)\n",
    "attn(x) # (1, 128, 512)"
   ]
  }
 ],
 "metadata": {
  "kernelspec": {
   "display_name": "DL",
   "language": "python",
   "name": "python3"
  },
  "language_info": {
   "codemirror_mode": {
    "name": "ipython",
    "version": 3
   },
   "file_extension": ".py",
   "mimetype": "text/x-python",
   "name": "python",
   "nbconvert_exporter": "python",
   "pygments_lexer": "ipython3",
   "version": "3.10.9"
  }
 },
 "nbformat": 4,
 "nbformat_minor": 2
}
